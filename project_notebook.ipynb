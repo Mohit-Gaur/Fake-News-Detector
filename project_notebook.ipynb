{
 "cells": [
  {
   "cell_type": "code",
   "execution_count": 4,
   "metadata": {
    "id": "dNCK0j_D1u5V"
   },
   "outputs": [],
   "source": [
    "# Dataset from https://www.kaggle.com/clmentbisaillon/fake-and-real-news-dataset"
   ]
  },
  {
   "cell_type": "code",
   "execution_count": 1,
   "metadata": {
    "id": "Opa4pwcIVTWR"
   },
   "outputs": [],
   "source": [
    "from sklearn.feature_extraction.text import CountVectorizer\n",
    "from sklearn.feature_extraction.text import TfidfTransformer\n",
    "from sklearn import linear_model, model_selection\n",
    "from sklearn.metrics import accuracy_score\n",
    "from sklearn.model_selection import train_test_split\n",
    "from sklearn.pipeline import Pipeline\n",
    "import matplotlib.pyplot as plt\n",
    "import seaborn as sns\n",
    "import pandas as pd\n",
    "import numpy as np\n",
    "import string\n",
    "import nltk"
   ]
  },
  {
   "cell_type": "markdown",
   "metadata": {
    "id": "WyFCm_SZV9BM"
   },
   "source": [
    "##Reading Datasets"
   ]
  },
  {
   "cell_type": "code",
   "execution_count": 2,
   "metadata": {
    "id": "7uCx65sjV6_d"
   },
   "outputs": [],
   "source": [
    "fake = pd.read_csv(\"./Fake.csv\")\n",
    "real = pd.read_csv(\"./Real.csv\")"
   ]
  },
  {
   "cell_type": "code",
   "execution_count": 3,
   "metadata": {
    "colab": {
     "base_uri": "https://localhost:8080/"
    },
    "id": "6aHOVFJ1WDkE",
    "outputId": "3b18b3f2-b219-4bae-fac1-5ff9f4032e47"
   },
   "outputs": [
    {
     "data": {
      "text/plain": [
       "(23481, 4)"
      ]
     },
     "execution_count": 3,
     "metadata": {},
     "output_type": "execute_result"
    }
   ],
   "source": [
    "fake.shape"
   ]
  },
  {
   "cell_type": "code",
   "execution_count": 4,
   "metadata": {
    "colab": {
     "base_uri": "https://localhost:8080/"
    },
    "id": "8Pj40K9zWFmp",
    "outputId": "b8aa7aaf-8768-4cce-b50e-8c9e1744202a"
   },
   "outputs": [
    {
     "data": {
      "text/plain": [
       "(21417, 4)"
      ]
     },
     "execution_count": 4,
     "metadata": {},
     "output_type": "execute_result"
    }
   ],
   "source": [
    "real.shape"
   ]
  },
  {
   "cell_type": "markdown",
   "metadata": {
    "id": "d_0_N-8PWHym"
   },
   "source": [
    "##Preparing and cleaning the data"
   ]
  },
  {
   "cell_type": "code",
   "execution_count": 5,
   "metadata": {
    "id": "YxdElb79WLrW"
   },
   "outputs": [],
   "source": [
    "# Setting a flag to distinguish between real and fake datasets\n",
    "fake[\"target\"] = \"fake\"\n",
    "real[\"target\"] = \"real\""
   ]
  },
  {
   "cell_type": "code",
   "execution_count": 6,
   "metadata": {
    "colab": {
     "base_uri": "https://localhost:8080/",
     "height": 202
    },
    "id": "MPCLMFHTWVHm",
    "outputId": "4c144db5-14e7-46f7-ea1b-c0fdb565ae0e"
   },
   "outputs": [
    {
     "data": {
      "text/html": [
       "<div>\n",
       "<style scoped>\n",
       "    .dataframe tbody tr th:only-of-type {\n",
       "        vertical-align: middle;\n",
       "    }\n",
       "\n",
       "    .dataframe tbody tr th {\n",
       "        vertical-align: top;\n",
       "    }\n",
       "\n",
       "    .dataframe thead th {\n",
       "        text-align: right;\n",
       "    }\n",
       "</style>\n",
       "<table border=\"1\" class=\"dataframe\">\n",
       "  <thead>\n",
       "    <tr style=\"text-align: right;\">\n",
       "      <th></th>\n",
       "      <th>title</th>\n",
       "      <th>text</th>\n",
       "      <th>subject</th>\n",
       "      <th>date</th>\n",
       "      <th>target</th>\n",
       "    </tr>\n",
       "  </thead>\n",
       "  <tbody>\n",
       "    <tr>\n",
       "      <th>0</th>\n",
       "      <td>How Florida’s Lax Gun Laws Are Endangering Th...</td>\n",
       "      <td>On the heels of the mass shooting at Pulse nig...</td>\n",
       "      <td>News</td>\n",
       "      <td>June 12, 2016</td>\n",
       "      <td>fake</td>\n",
       "    </tr>\n",
       "    <tr>\n",
       "      <th>1</th>\n",
       "      <td>Coalition says fewer than 3,000 IS fighters re...</td>\n",
       "      <td>BAGHDAD (Reuters) - The United States-led inte...</td>\n",
       "      <td>worldnews</td>\n",
       "      <td>December 5, 2017</td>\n",
       "      <td>real</td>\n",
       "    </tr>\n",
       "    <tr>\n",
       "      <th>2</th>\n",
       "      <td>OBAMA’S GITMO BOARD RELEASES “High Risk” Explo...</td>\n",
       "      <td>While Obama golfs in Martha s Vineyard, yet an...</td>\n",
       "      <td>Government News</td>\n",
       "      <td>Aug 14, 2016</td>\n",
       "      <td>fake</td>\n",
       "    </tr>\n",
       "    <tr>\n",
       "      <th>3</th>\n",
       "      <td>U.S. voting commission vice chair urged new vo...</td>\n",
       "      <td>WASHINGTON (Reuters) - The vice chairman of a ...</td>\n",
       "      <td>politicsNews</td>\n",
       "      <td>October 6, 2017</td>\n",
       "      <td>real</td>\n",
       "    </tr>\n",
       "    <tr>\n",
       "      <th>4</th>\n",
       "      <td>Wedge issue: Texas golf range offers Clinton a...</td>\n",
       "      <td>LONGVIEW, Texas (Reuters) - Looking for a way ...</td>\n",
       "      <td>politicsNews</td>\n",
       "      <td>November 2, 2016</td>\n",
       "      <td>real</td>\n",
       "    </tr>\n",
       "  </tbody>\n",
       "</table>\n",
       "</div>"
      ],
      "text/plain": [
       "                                               title  \\\n",
       "0   How Florida’s Lax Gun Laws Are Endangering Th...   \n",
       "1  Coalition says fewer than 3,000 IS fighters re...   \n",
       "2  OBAMA’S GITMO BOARD RELEASES “High Risk” Explo...   \n",
       "3  U.S. voting commission vice chair urged new vo...   \n",
       "4  Wedge issue: Texas golf range offers Clinton a...   \n",
       "\n",
       "                                                text          subject  \\\n",
       "0  On the heels of the mass shooting at Pulse nig...             News   \n",
       "1  BAGHDAD (Reuters) - The United States-led inte...        worldnews   \n",
       "2  While Obama golfs in Martha s Vineyard, yet an...  Government News   \n",
       "3  WASHINGTON (Reuters) - The vice chairman of a ...     politicsNews   \n",
       "4  LONGVIEW, Texas (Reuters) - Looking for a way ...     politicsNews   \n",
       "\n",
       "                date target  \n",
       "0      June 12, 2016   fake  \n",
       "1  December 5, 2017    real  \n",
       "2       Aug 14, 2016   fake  \n",
       "3   October 6, 2017    real  \n",
       "4  November 2, 2016    real  "
      ]
     },
     "execution_count": 6,
     "metadata": {},
     "output_type": "execute_result"
    }
   ],
   "source": [
    "# Concatenating the dataframes\n",
    "data = pd.concat([fake, real]).reset_index(drop=True)\n",
    "data.shape\n",
    "\n",
    "# Shuffling the data\n",
    "from sklearn.utils import shuffle\n",
    "\n",
    "data = shuffle(data)\n",
    "data = data.reset_index(drop=True)\n",
    "\n",
    "data.head()"
   ]
  },
  {
   "cell_type": "code",
   "execution_count": 7,
   "metadata": {
    "colab": {
     "base_uri": "https://localhost:8080/",
     "height": 202
    },
    "id": "STj3whDyWbF4",
    "outputId": "464e5f4c-e756-4d25-cb78-a5a7b66af47f"
   },
   "outputs": [
    {
     "data": {
      "text/html": [
       "<div>\n",
       "<style scoped>\n",
       "    .dataframe tbody tr th:only-of-type {\n",
       "        vertical-align: middle;\n",
       "    }\n",
       "\n",
       "    .dataframe tbody tr th {\n",
       "        vertical-align: top;\n",
       "    }\n",
       "\n",
       "    .dataframe thead th {\n",
       "        text-align: right;\n",
       "    }\n",
       "</style>\n",
       "<table border=\"1\" class=\"dataframe\">\n",
       "  <thead>\n",
       "    <tr style=\"text-align: right;\">\n",
       "      <th></th>\n",
       "      <th>title</th>\n",
       "      <th>text</th>\n",
       "      <th>subject</th>\n",
       "      <th>target</th>\n",
       "    </tr>\n",
       "  </thead>\n",
       "  <tbody>\n",
       "    <tr>\n",
       "      <th>0</th>\n",
       "      <td>How Florida’s Lax Gun Laws Are Endangering Th...</td>\n",
       "      <td>On the heels of the mass shooting at Pulse nig...</td>\n",
       "      <td>News</td>\n",
       "      <td>fake</td>\n",
       "    </tr>\n",
       "    <tr>\n",
       "      <th>1</th>\n",
       "      <td>Coalition says fewer than 3,000 IS fighters re...</td>\n",
       "      <td>BAGHDAD (Reuters) - The United States-led inte...</td>\n",
       "      <td>worldnews</td>\n",
       "      <td>real</td>\n",
       "    </tr>\n",
       "    <tr>\n",
       "      <th>2</th>\n",
       "      <td>OBAMA’S GITMO BOARD RELEASES “High Risk” Explo...</td>\n",
       "      <td>While Obama golfs in Martha s Vineyard, yet an...</td>\n",
       "      <td>Government News</td>\n",
       "      <td>fake</td>\n",
       "    </tr>\n",
       "    <tr>\n",
       "      <th>3</th>\n",
       "      <td>U.S. voting commission vice chair urged new vo...</td>\n",
       "      <td>WASHINGTON (Reuters) - The vice chairman of a ...</td>\n",
       "      <td>politicsNews</td>\n",
       "      <td>real</td>\n",
       "    </tr>\n",
       "    <tr>\n",
       "      <th>4</th>\n",
       "      <td>Wedge issue: Texas golf range offers Clinton a...</td>\n",
       "      <td>LONGVIEW, Texas (Reuters) - Looking for a way ...</td>\n",
       "      <td>politicsNews</td>\n",
       "      <td>real</td>\n",
       "    </tr>\n",
       "  </tbody>\n",
       "</table>\n",
       "</div>"
      ],
      "text/plain": [
       "                                               title  \\\n",
       "0   How Florida’s Lax Gun Laws Are Endangering Th...   \n",
       "1  Coalition says fewer than 3,000 IS fighters re...   \n",
       "2  OBAMA’S GITMO BOARD RELEASES “High Risk” Explo...   \n",
       "3  U.S. voting commission vice chair urged new vo...   \n",
       "4  Wedge issue: Texas golf range offers Clinton a...   \n",
       "\n",
       "                                                text          subject target  \n",
       "0  On the heels of the mass shooting at Pulse nig...             News   fake  \n",
       "1  BAGHDAD (Reuters) - The United States-led inte...        worldnews   real  \n",
       "2  While Obama golfs in Martha s Vineyard, yet an...  Government News   fake  \n",
       "3  WASHINGTON (Reuters) - The vice chairman of a ...     politicsNews   real  \n",
       "4  LONGVIEW, Texas (Reuters) - Looking for a way ...     politicsNews   real  "
      ]
     },
     "execution_count": 7,
     "metadata": {},
     "output_type": "execute_result"
    }
   ],
   "source": [
    "# Removing the date column from the data\n",
    "data.drop([\"date\"], axis=1, inplace=True)\n",
    "data.head()"
   ]
  },
  {
   "cell_type": "code",
   "execution_count": 8,
   "metadata": {
    "colab": {
     "base_uri": "https://localhost:8080/",
     "height": 202
    },
    "id": "Ytz_SSYNWez2",
    "outputId": "4d8586e6-7f00-4a02-fd68-9fd2c28c84df"
   },
   "outputs": [
    {
     "data": {
      "text/html": [
       "<div>\n",
       "<style scoped>\n",
       "    .dataframe tbody tr th:only-of-type {\n",
       "        vertical-align: middle;\n",
       "    }\n",
       "\n",
       "    .dataframe tbody tr th {\n",
       "        vertical-align: top;\n",
       "    }\n",
       "\n",
       "    .dataframe thead th {\n",
       "        text-align: right;\n",
       "    }\n",
       "</style>\n",
       "<table border=\"1\" class=\"dataframe\">\n",
       "  <thead>\n",
       "    <tr style=\"text-align: right;\">\n",
       "      <th></th>\n",
       "      <th>text</th>\n",
       "      <th>subject</th>\n",
       "      <th>target</th>\n",
       "    </tr>\n",
       "  </thead>\n",
       "  <tbody>\n",
       "    <tr>\n",
       "      <th>0</th>\n",
       "      <td>On the heels of the mass shooting at Pulse nig...</td>\n",
       "      <td>News</td>\n",
       "      <td>fake</td>\n",
       "    </tr>\n",
       "    <tr>\n",
       "      <th>1</th>\n",
       "      <td>BAGHDAD (Reuters) - The United States-led inte...</td>\n",
       "      <td>worldnews</td>\n",
       "      <td>real</td>\n",
       "    </tr>\n",
       "    <tr>\n",
       "      <th>2</th>\n",
       "      <td>While Obama golfs in Martha s Vineyard, yet an...</td>\n",
       "      <td>Government News</td>\n",
       "      <td>fake</td>\n",
       "    </tr>\n",
       "    <tr>\n",
       "      <th>3</th>\n",
       "      <td>WASHINGTON (Reuters) - The vice chairman of a ...</td>\n",
       "      <td>politicsNews</td>\n",
       "      <td>real</td>\n",
       "    </tr>\n",
       "    <tr>\n",
       "      <th>4</th>\n",
       "      <td>LONGVIEW, Texas (Reuters) - Looking for a way ...</td>\n",
       "      <td>politicsNews</td>\n",
       "      <td>real</td>\n",
       "    </tr>\n",
       "  </tbody>\n",
       "</table>\n",
       "</div>"
      ],
      "text/plain": [
       "                                                text          subject target\n",
       "0  On the heels of the mass shooting at Pulse nig...             News   fake\n",
       "1  BAGHDAD (Reuters) - The United States-led inte...        worldnews   real\n",
       "2  While Obama golfs in Martha s Vineyard, yet an...  Government News   fake\n",
       "3  WASHINGTON (Reuters) - The vice chairman of a ...     politicsNews   real\n",
       "4  LONGVIEW, Texas (Reuters) - Looking for a way ...     politicsNews   real"
      ]
     },
     "execution_count": 8,
     "metadata": {},
     "output_type": "execute_result"
    }
   ],
   "source": [
    "# Removing the title column\n",
    "data.drop([\"title\"], axis=1, inplace=True)\n",
    "data.head()"
   ]
  },
  {
   "cell_type": "code",
   "execution_count": 9,
   "metadata": {
    "colab": {
     "base_uri": "https://localhost:8080/",
     "height": 202
    },
    "id": "pQLXvsrlWgUf",
    "outputId": "f404dcfe-7d0b-4963-85f4-c7bb1b9aae10"
   },
   "outputs": [
    {
     "data": {
      "text/html": [
       "<div>\n",
       "<style scoped>\n",
       "    .dataframe tbody tr th:only-of-type {\n",
       "        vertical-align: middle;\n",
       "    }\n",
       "\n",
       "    .dataframe tbody tr th {\n",
       "        vertical-align: top;\n",
       "    }\n",
       "\n",
       "    .dataframe thead th {\n",
       "        text-align: right;\n",
       "    }\n",
       "</style>\n",
       "<table border=\"1\" class=\"dataframe\">\n",
       "  <thead>\n",
       "    <tr style=\"text-align: right;\">\n",
       "      <th></th>\n",
       "      <th>text</th>\n",
       "      <th>subject</th>\n",
       "      <th>target</th>\n",
       "    </tr>\n",
       "  </thead>\n",
       "  <tbody>\n",
       "    <tr>\n",
       "      <th>0</th>\n",
       "      <td>on the heels of the mass shooting at pulse nig...</td>\n",
       "      <td>News</td>\n",
       "      <td>fake</td>\n",
       "    </tr>\n",
       "    <tr>\n",
       "      <th>1</th>\n",
       "      <td>baghdad (reuters) - the united states-led inte...</td>\n",
       "      <td>worldnews</td>\n",
       "      <td>real</td>\n",
       "    </tr>\n",
       "    <tr>\n",
       "      <th>2</th>\n",
       "      <td>while obama golfs in martha s vineyard, yet an...</td>\n",
       "      <td>Government News</td>\n",
       "      <td>fake</td>\n",
       "    </tr>\n",
       "    <tr>\n",
       "      <th>3</th>\n",
       "      <td>washington (reuters) - the vice chairman of a ...</td>\n",
       "      <td>politicsNews</td>\n",
       "      <td>real</td>\n",
       "    </tr>\n",
       "    <tr>\n",
       "      <th>4</th>\n",
       "      <td>longview, texas (reuters) - looking for a way ...</td>\n",
       "      <td>politicsNews</td>\n",
       "      <td>real</td>\n",
       "    </tr>\n",
       "  </tbody>\n",
       "</table>\n",
       "</div>"
      ],
      "text/plain": [
       "                                                text          subject target\n",
       "0  on the heels of the mass shooting at pulse nig...             News   fake\n",
       "1  baghdad (reuters) - the united states-led inte...        worldnews   real\n",
       "2  while obama golfs in martha s vineyard, yet an...  Government News   fake\n",
       "3  washington (reuters) - the vice chairman of a ...     politicsNews   real\n",
       "4  longview, texas (reuters) - looking for a way ...     politicsNews   real"
      ]
     },
     "execution_count": 9,
     "metadata": {},
     "output_type": "execute_result"
    }
   ],
   "source": [
    "# Converting the text column to lowercase\n",
    "data[\"text\"] = data[\"text\"].apply(lambda x: x.lower())\n",
    "data.head()"
   ]
  },
  {
   "cell_type": "code",
   "execution_count": 10,
   "metadata": {
    "colab": {
     "base_uri": "https://localhost:8080/",
     "height": 202
    },
    "id": "9CLDpOAlWswD",
    "outputId": "ba764b1d-944b-47e5-f8dc-cc197977f2a5"
   },
   "outputs": [
    {
     "data": {
      "text/html": [
       "<div>\n",
       "<style scoped>\n",
       "    .dataframe tbody tr th:only-of-type {\n",
       "        vertical-align: middle;\n",
       "    }\n",
       "\n",
       "    .dataframe tbody tr th {\n",
       "        vertical-align: top;\n",
       "    }\n",
       "\n",
       "    .dataframe thead th {\n",
       "        text-align: right;\n",
       "    }\n",
       "</style>\n",
       "<table border=\"1\" class=\"dataframe\">\n",
       "  <thead>\n",
       "    <tr style=\"text-align: right;\">\n",
       "      <th></th>\n",
       "      <th>text</th>\n",
       "      <th>subject</th>\n",
       "      <th>target</th>\n",
       "    </tr>\n",
       "  </thead>\n",
       "  <tbody>\n",
       "    <tr>\n",
       "      <th>0</th>\n",
       "      <td>on the heels of the mass shooting at pulse nig...</td>\n",
       "      <td>News</td>\n",
       "      <td>fake</td>\n",
       "    </tr>\n",
       "    <tr>\n",
       "      <th>1</th>\n",
       "      <td>baghdad reuters  the united statesled internat...</td>\n",
       "      <td>worldnews</td>\n",
       "      <td>real</td>\n",
       "    </tr>\n",
       "    <tr>\n",
       "      <th>2</th>\n",
       "      <td>while obama golfs in martha s vineyard yet ano...</td>\n",
       "      <td>Government News</td>\n",
       "      <td>fake</td>\n",
       "    </tr>\n",
       "    <tr>\n",
       "      <th>3</th>\n",
       "      <td>washington reuters  the vice chairman of a vot...</td>\n",
       "      <td>politicsNews</td>\n",
       "      <td>real</td>\n",
       "    </tr>\n",
       "    <tr>\n",
       "      <th>4</th>\n",
       "      <td>longview texas reuters  looking for a way to h...</td>\n",
       "      <td>politicsNews</td>\n",
       "      <td>real</td>\n",
       "    </tr>\n",
       "  </tbody>\n",
       "</table>\n",
       "</div>"
      ],
      "text/plain": [
       "                                                text          subject target\n",
       "0  on the heels of the mass shooting at pulse nig...             News   fake\n",
       "1  baghdad reuters  the united statesled internat...        worldnews   real\n",
       "2  while obama golfs in martha s vineyard yet ano...  Government News   fake\n",
       "3  washington reuters  the vice chairman of a vot...     politicsNews   real\n",
       "4  longview texas reuters  looking for a way to h...     politicsNews   real"
      ]
     },
     "execution_count": 10,
     "metadata": {},
     "output_type": "execute_result"
    }
   ],
   "source": [
    "# Removing punctuation from text\n",
    "def punctuation_remove(text):\n",
    "    all_list = [char for char in text if char not in string.punctuation]\n",
    "    clean_str = \"\".join(all_list)\n",
    "    return clean_str\n",
    "\n",
    "\n",
    "data[\"text\"] = data[\"text\"].apply(punctuation_remove)\n",
    "data.head()"
   ]
  },
  {
   "cell_type": "code",
   "execution_count": 11,
   "metadata": {
    "colab": {
     "base_uri": "https://localhost:8080/",
     "height": 237
    },
    "id": "cem3LrYmWx1u",
    "outputId": "4820fd69-99ef-4912-8181-727ae6077fb5"
   },
   "outputs": [
    {
     "name": "stderr",
     "output_type": "stream",
     "text": [
      "[nltk_data] Downloading package stopwords to\n",
      "[nltk_data]     /Users/mohitgaur/nltk_data...\n",
      "[nltk_data]   Package stopwords is already up-to-date!\n"
     ]
    },
    {
     "data": {
      "text/html": [
       "<div>\n",
       "<style scoped>\n",
       "    .dataframe tbody tr th:only-of-type {\n",
       "        vertical-align: middle;\n",
       "    }\n",
       "\n",
       "    .dataframe tbody tr th {\n",
       "        vertical-align: top;\n",
       "    }\n",
       "\n",
       "    .dataframe thead th {\n",
       "        text-align: right;\n",
       "    }\n",
       "</style>\n",
       "<table border=\"1\" class=\"dataframe\">\n",
       "  <thead>\n",
       "    <tr style=\"text-align: right;\">\n",
       "      <th></th>\n",
       "      <th>text</th>\n",
       "      <th>subject</th>\n",
       "      <th>target</th>\n",
       "    </tr>\n",
       "  </thead>\n",
       "  <tbody>\n",
       "    <tr>\n",
       "      <th>0</th>\n",
       "      <td>heels mass shooting pulse nightclub orlando fl...</td>\n",
       "      <td>News</td>\n",
       "      <td>fake</td>\n",
       "    </tr>\n",
       "    <tr>\n",
       "      <th>1</th>\n",
       "      <td>baghdad reuters united statesled international...</td>\n",
       "      <td>worldnews</td>\n",
       "      <td>real</td>\n",
       "    </tr>\n",
       "    <tr>\n",
       "      <th>2</th>\n",
       "      <td>obama golfs martha vineyard yet another decisi...</td>\n",
       "      <td>Government News</td>\n",
       "      <td>fake</td>\n",
       "    </tr>\n",
       "    <tr>\n",
       "      <th>3</th>\n",
       "      <td>washington reuters vice chairman voter fraud p...</td>\n",
       "      <td>politicsNews</td>\n",
       "      <td>real</td>\n",
       "    </tr>\n",
       "    <tr>\n",
       "      <th>4</th>\n",
       "      <td>longview texas reuters looking way help reliev...</td>\n",
       "      <td>politicsNews</td>\n",
       "      <td>real</td>\n",
       "    </tr>\n",
       "  </tbody>\n",
       "</table>\n",
       "</div>"
      ],
      "text/plain": [
       "                                                text          subject target\n",
       "0  heels mass shooting pulse nightclub orlando fl...             News   fake\n",
       "1  baghdad reuters united statesled international...        worldnews   real\n",
       "2  obama golfs martha vineyard yet another decisi...  Government News   fake\n",
       "3  washington reuters vice chairman voter fraud p...     politicsNews   real\n",
       "4  longview texas reuters looking way help reliev...     politicsNews   real"
      ]
     },
     "execution_count": 11,
     "metadata": {},
     "output_type": "execute_result"
    }
   ],
   "source": [
    "# Removing stopwords from text\n",
    "nltk.download(\"stopwords\")\n",
    "from nltk.corpus import stopwords\n",
    "\n",
    "stop = stopwords.words(\"english\")\n",
    "\n",
    "data[\"text\"] = data[\"text\"].apply(lambda x: \" \".join([word for word in x.split() if word not in (stop)]))\n",
    "data.head()"
   ]
  },
  {
   "cell_type": "markdown",
   "metadata": {
    "id": "1bk9ecmgXHDU"
   },
   "source": [
    "##Exploring the data"
   ]
  },
  {
   "cell_type": "code",
   "execution_count": 12,
   "metadata": {
    "colab": {
     "base_uri": "https://localhost:8080/",
     "height": 421
    },
    "id": "9feWx5shXFIg",
    "outputId": "133b6ee5-374b-4b65-ec8e-bdfa07c3be23"
   },
   "outputs": [
    {
     "name": "stdout",
     "output_type": "stream",
     "text": [
      "subject\n",
      "Government News     1570\n",
      "Middle-east          778\n",
      "News                9050\n",
      "US_News              783\n",
      "left-news           4459\n",
      "politics            6841\n",
      "politicsNews       11272\n",
      "worldnews          10145\n",
      "Name: text, dtype: int64\n"
     ]
    },
    {
     "data": {
      "image/png": "[encoded data removed]",
      "text/plain": [
       "<Figure size 432x288 with 1 Axes>"
      ]
     },
     "metadata": {},
     "output_type": "display_data"
    }
   ],
   "source": [
    "# Number of articles per subject\n",
    "print(data.groupby([\"subject\"])[\"text\"].count())\n",
    "data.groupby([\"subject\"])[\"text\"].count().plot(kind=\"pie\")\n",
    "plt.show()"
   ]
  },
  {
   "cell_type": "code",
   "execution_count": 13,
   "metadata": {
    "colab": {
     "base_uri": "https://localhost:8080/",
     "height": 361
    },
    "id": "1mXgF5GrXMsx",
    "outputId": "16976a27-b19f-4c6b-ba75-37f20a2ba167"
   },
   "outputs": [
    {
     "name": "stdout",
     "output_type": "stream",
     "text": [
      "target\n",
      "fake    23481\n",
      "real    21417\n",
      "Name: text, dtype: int64\n"
     ]
    },
    {
     "data": {
      "image/png": "[encoded data removed]",
      "text/plain": [
       "<Figure size 432x288 with 1 Axes>"
      ]
     },
     "metadata": {
      "needs_background": "light"
     },
     "output_type": "display_data"
    }
   ],
   "source": [
    "# Number of fake and real articles\n",
    "print(data.groupby([\"target\"])[\"text\"].count())\n",
    "data.groupby([\"target\"])[\"text\"].count().plot(kind=\"bar\", color=\"blue\")\n",
    "plt.show()"
   ]
  },
  {
   "cell_type": "code",
   "execution_count": 14,
   "metadata": {
    "id": "TMuxWP6YXT92"
   },
   "outputs": [],
   "source": [
    "# Counting the most frequently occuring words in text\n",
    "from nltk import tokenize\n",
    "\n",
    "token_space = tokenize.WhitespaceTokenizer()\n",
    "\n",
    "\n",
    "def counter(text, column_text, quantity):\n",
    "    all_words = \" \".join([text for text in text[column_text]])\n",
    "    token_phrase = token_space.tokenize(all_words)\n",
    "    frequency = nltk.FreqDist(token_phrase)\n",
    "    df_frequency = pd.DataFrame({\"Word\": list(frequency.keys()), \"Frequency\": list(frequency.values())})\n",
    "    df_frequency = df_frequency.nlargest(columns=\"Frequency\", n=quantity)\n",
    "    plt.figure(figsize=(12, 8))\n",
    "    ax = sns.barplot(data=df_frequency, x=\"Word\", y=\"Frequency\", color=\"red\")\n",
    "    ax.set(ylabel=\"Count\")\n",
    "    plt.xticks(rotation=\"vertical\")\n",
    "    plt.show()"
   ]
  },
  {
   "cell_type": "code",
   "execution_count": 15,
   "metadata": {
    "colab": {
     "base_uri": "https://localhost:8080/",
     "height": 534
    },
    "id": "bRBbedJIXXj7",
    "outputId": "c9de1277-a1c0-4ef0-b860-4e3bb9e4f006"
   },
   "outputs": [
    {
     "data": {
      "image/png": "[encoded data removed]",
      "text/plain": [
       "<Figure size 864x576 with 1 Axes>"
      ]
     },
     "metadata": {
      "needs_background": "light"
     },
     "output_type": "display_data"
    }
   ],
   "source": [
    "# The top 15 most frequently occuring words in FAKE news\n",
    "counter(data[data[\"target\"] == \"fake\"], \"text\", 10)"
   ]
  },
  {
   "cell_type": "code",
   "execution_count": 16,
   "metadata": {
    "colab": {
     "base_uri": "https://localhost:8080/",
     "height": 548
    },
    "id": "aF7KnCW2XZNj",
    "outputId": "80d313f7-6c47-48c3-ff64-ae6cdf090b02"
   },
   "outputs": [
    {
     "data": {
      "image/png": "[encoded data removed]",
      "text/plain": [
       "<Figure size 864x576 with 1 Axes>"
      ]
     },
     "metadata": {
      "needs_background": "light"
     },
     "output_type": "display_data"
    }
   ],
   "source": [
    "# The top 15 most frequently occuring words in REAL news\n",
    "counter(data[data[\"target\"] == \"real\"], \"text\", 10)"
   ]
  },
  {
   "cell_type": "markdown",
   "metadata": {},
   "source": [
    "## Logistic Regression"
   ]
  },
  {
   "cell_type": "code",
   "execution_count": 17,
   "metadata": {
    "colab": {
     "base_uri": "https://localhost:8080/"
    },
    "id": "PyjGBW7Jx1q8",
    "outputId": "5c1a0d9d-26d9-4d76-dec0-be36449024ee"
   },
   "outputs": [
    {
     "name": "stdout",
     "output_type": "stream",
     "text": [
      "Model Accuracy: 98.92%\n"
     ]
    }
   ],
   "source": [
    "# Vectorizing and applying TF-IDF\n",
    "X_train, X_test, y_train, y_test = train_test_split(data[\"text\"], data.target, test_size=0.2, random_state=42)\n",
    "from sklearn.linear_model import LogisticRegression\n",
    "\n",
    "pipe = Pipeline([(\"vect\", CountVectorizer()), (\"tfidf\", TfidfTransformer()), (\"model\", LogisticRegression())])\n",
    "\n",
    "# Fitting the model\n",
    "model = pipe.fit(X_train, y_train)\n",
    "\n",
    "# Model Accuracy\n",
    "prediction = model.predict(X_test)\n",
    "print(\"Model Accuracy: {}%\".format(round(accuracy_score(y_test, prediction) * 100, 2)))"
   ]
  },
  {
   "cell_type": "code",
   "execution_count": 18,
   "metadata": {},
   "outputs": [],
   "source": [
    "# Function to plot confusion matrix\n",
    "from sklearn import metrics\n",
    "import itertools\n",
    "\n",
    "\n",
    "def plot_confusion_matrix(c_matrix, classes, normalize=False, title=\"Confusion matrix\", cmap=plt.cm.Blues):\n",
    "\n",
    "    plt.imshow(c_matrix, interpolation=\"nearest\", cmap=cmap)\n",
    "    plt.title(title)\n",
    "    plt.colorbar()\n",
    "    tick_marks = np.arange(len(classes))\n",
    "    plt.xticks(tick_marks, classes, rotation=45)\n",
    "    plt.yticks(tick_marks, classes)\n",
    "\n",
    "    if normalize:\n",
    "        c_matrix = c_matrix.astype(\"float\") / c_matrix.sum(axis=1)[:, np.newaxis]\n",
    "        print(\"Normalized confusion matrix\")\n",
    "    else:\n",
    "        print(\"Confusion matrix, without normalization\")\n",
    "\n",
    "    threshold_v = c_matrix.max() / 2.0\n",
    "    for i, j in itertools.product(range(c_matrix.shape[0]), range(c_matrix.shape[1])):\n",
    "        plt.text(\n",
    "            j,\n",
    "            i,\n",
    "            c_matrix[i, j],\n",
    "            horizontalalignment=\"center\",\n",
    "            color=\"white\" if c_matrix[i, j] > threshold_v else \"black\",\n",
    "        )\n",
    "\n",
    "    plt.tight_layout()\n",
    "    plt.ylabel(\"Ground truth\")\n",
    "    plt.xlabel(\"Prediction\")"
   ]
  },
  {
   "cell_type": "code",
   "execution_count": 19,
   "metadata": {},
   "outputs": [
    {
     "name": "stdout",
     "output_type": "stream",
     "text": [
      "Confusion matrix, without normalization\n"
     ]
    },
    {
     "data": {
      "image/png": "[encoded data removed]",
      "text/plain": [
       "<Figure size 432x288 with 2 Axes>"
      ]
     },
     "metadata": {
      "needs_background": "light"
     },
     "output_type": "display_data"
    }
   ],
   "source": [
    "# Plotting the confusion matrix\n",
    "c_matrix = metrics.confusion_matrix(y_test, prediction)\n",
    "plot_confusion_matrix(c_matrix, classes=[\"Fake\", \"Real\"], cmap=\"YlGn\")"
   ]
  },
  {
   "cell_type": "markdown",
   "metadata": {},
   "source": []
  },
  {
   "cell_type": "code",
   "execution_count": 20,
   "metadata": {},
   "outputs": [
    {
     "name": "stdout",
     "output_type": "stream",
     "text": [
      "accuracy: 99.51%\n"
     ]
    }
   ],
   "source": [
    "from sklearn.tree import DecisionTreeClassifier\n",
    "\n",
    "# Vectorizing and applying TF-IDF\n",
    "pipe = Pipeline([('vect', CountVectorizer()),\n",
    "                 ('tfidf', TfidfTransformer()),\n",
    "                 ('model', DecisionTreeClassifier(criterion= 'entropy',\n",
    "                                           max_depth = 20, \n",
    "                                           splitter='best', \n",
    "                                           random_state=42))])\n",
    "# Fitting the model\n",
    "model = pipe.fit(X_train, y_train)\n",
    "\n",
    "# Accuracy\n",
    "prediction = model.predict(X_test)\n",
    "print(\"accuracy: {}%\".format(round(accuracy_score(y_test, prediction)*100,2)))"
   ]
  },
  {
   "cell_type": "code",
   "execution_count": 22,
   "metadata": {},
   "outputs": [
    {
     "name": "stdout",
     "output_type": "stream",
     "text": [
      "Confusion matrix, without normalization\n"
     ]
    },
    {
     "data": {
      "image/png": "[encoded data removed]",
      "text/plain": [
       "<Figure size 432x288 with 2 Axes>"
      ]
     },
     "metadata": {
      "needs_background": "light"
     },
     "output_type": "display_data"
    }
   ],
   "source": [
    "c_matrix = metrics.confusion_matrix(y_test, prediction)\n",
    "plot_confusion_matrix(c_matrix, classes=['Fake', 'Real'], cmap=\"YlGn\")"
   ]
  },
  {
   "cell_type": "code",
   "execution_count": null,
   "metadata": {},
   "outputs": [],
   "source": []
  },
  {
   "cell_type": "code",
   "execution_count": 23,
   "metadata": {},
   "outputs": [
    {
     "name": "stdout",
     "output_type": "stream",
     "text": [
      "accuracy: 98.86%\n"
     ]
    }
   ],
   "source": [
    "from sklearn.ensemble import RandomForestClassifier\n",
    "\n",
    "pipe = Pipeline([('vect', CountVectorizer()),\n",
    "                 ('tfidf', TfidfTransformer()),\n",
    "                 ('model', RandomForestClassifier(n_estimators=50, criterion=\"entropy\"))])\n",
    "\n",
    "model = pipe.fit(X_train, y_train)\n",
    "prediction = model.predict(X_test)\n",
    "print(\"accuracy: {}%\".format(round(accuracy_score(y_test, prediction)*100,2)))"
   ]
  },
  {
   "cell_type": "code",
   "execution_count": 25,
   "metadata": {},
   "outputs": [
    {
     "name": "stdout",
     "output_type": "stream",
     "text": [
      "Confusion matrix, without normalization\n"
     ]
    },
    {
     "data": {
      "image/png": "[encoded data removed]",
      "text/plain": [
       "<Figure size 432x288 with 2 Axes>"
      ]
     },
     "metadata": {
      "needs_background": "light"
     },
     "output_type": "display_data"
    }
   ],
   "source": [
    "c_matrix = metrics.confusion_matrix(y_test, prediction)\n",
    "plot_confusion_matrix(c_matrix, classes=['Fake', 'Real'], cmap=\"YlGn\")"
   ]
  },
  {
   "cell_type": "code",
   "execution_count": null,
   "metadata": {},
   "outputs": [],
   "source": []
  }
 ],
 "metadata": {
  "colab": {
   "name": "T&T_Project.ipynb",
   "provenance": []
  },
  "kernelspec": {
   "display_name": "Python 3 (ipykernel)",
   "language": "python",
   "name": "python3"
  },
  "language_info": {
   "codemirror_mode": {
    "name": "ipython",
    "version": 3
   },
   "file_extension": ".py",
   "mimetype": "text/x-python",
   "name": "python",
   "nbconvert_exporter": "python",
   "pygments_lexer": "ipython3",
   "version": "3.8.10"
  }
 },
 "nbformat": 4,
 "nbformat_minor": 1
}
